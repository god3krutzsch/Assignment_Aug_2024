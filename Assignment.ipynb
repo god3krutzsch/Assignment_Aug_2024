{
 "cells": [
  {
   "metadata": {},
   "cell_type": "markdown",
   "source": [
    "Task 1\n",
    "\n",
    "The dataset encompasses 21 columns and 9994 rows of customer and order information. There are four key numeric columns Sales, Profit, Quantity and discount that provide insights around financial performance of the business and are candidates for feature engineering.\n",
    "\n",
    "The remaining columns are categorical by nature and fall into two groups which are products with product_id, categories, sub-categories with some logistical information. The final set of categoricals covers customer address information. Unfortunately, the dataset has 59 missing values, NaNs in numerical fields and numeric columns classified as objects, not float64 as expected. This will present a challenge when deriving insights."
   ],
   "id": "27a302e1f630d9c8"
  },
  {
   "metadata": {
    "ExecuteTime": {
     "end_time": "2024-06-14T07:03:46.203513Z",
     "start_time": "2024-06-14T07:03:46.151904Z"
    }
   },
   "cell_type": "code",
   "source": [
    "import pandas as pd\n",
    "import numpy as np\n",
    "# from sklearn.impute import IterativeImputer\n",
    "from sklearn.ensemble import RandomForestRegressor\n",
    "from sklearn.preprocessing import StandardScaler\n",
    "from sklearn.experimental import enable_iterative_imputer\n",
    "from sklearn.linear_model import LinearRegression\n",
    "from sklearn.preprocessing import MinMaxScaler\n",
    "import matplotlib.pyplot as plt\n",
    "import seaborn as sns \n",
    "import scipy.stats as stats\n",
    "import warnings\n",
    "\n",
    "\n",
    "\n",
    "\n",
    "file_path = \"/Users/godfreykrutzsch/Desktop/MSc/Assignment/samplesuperstore2023T3.csv\"\n",
    "df_customer_order_info = pd.read_csv(file_path)\n",
    "\n",
    "print(df_customer_order_info.head(10))"
   ],
   "id": "initial_id",
   "outputs": [
    {
     "name": "stdout",
     "output_type": "stream",
     "text": [
      "   Row ID        Order ID  Order Date   Ship Date       Ship Mode Customer ID  \\\n",
      "0    7773  CA-2016-108196  25/11/2016  12/02/2016  Standard Class    CS-12505   \n",
      "1     684  US-2017-168116  11/04/2017  11/04/2017        Same Day    GT-14635   \n",
      "2    9775  CA-2014-169019  26/07/2014  30/07/2014  Standard Class    LF-17185   \n",
      "3    3012  CA-2017-134845  17/04/2017  24/04/2017  Standard Class    SR-20425   \n",
      "4    4992  US-2017-122714  12/07/2017  13/12/2017  Standard Class    HG-14965   \n",
      "5    3152  CA-2015-147830  15/12/2015  18/12/2015     First Class    NF-18385   \n",
      "6    5311  CA-2017-131254  19/11/2017  21/11/2017     First Class    NC-18415   \n",
      "7    9640  CA-2015-116638  28/01/2015         NaN    Second Class    JH-15985   \n",
      "8    1200  CA-2016-130946  04/08/2016  04/12/2016  Standard Class    ZC-21910   \n",
      "9    2698  CA-2014-145317  18/03/2014  23/03/2014  Standard Class    SM-20320   \n",
      "\n",
      "      Customer Name      Segment        Country          City  ...  \\\n",
      "0     Cindy Stewart     Consumer  United States     Lancaster  ...   \n",
      "1    Grant Thornton    Corporate  United States    Burlington  ...   \n",
      "2       Luke Foster     Consumer  United States   San Antonio  ...   \n",
      "3    Sharelle Roach  Home Office  United States    Louisville  ...   \n",
      "4     Henry Goldwyn    Corporate  United States       Chicago  ...   \n",
      "5  Natalie Fritzler     Consumer  United States        Newark  ...   \n",
      "6       Nathan Cano     Consumer  United States       Houston  ...   \n",
      "7       Joseph Holt     Consumer  United States       Concord  ...   \n",
      "8  Zuschuss Carroll     Consumer  United States       Houston  ...   \n",
      "9       Sean Miller  Home Office            NaN  Jacksonville  ...   \n",
      "\n",
      "  Postal Code   Region       Product ID         Category Sub-Category  \\\n",
      "0       43130      Est  TEC-MA-10000418       Technology     Machines   \n",
      "1     \"27217\"    South  TEC-MA-10004125       Technology     Machines   \n",
      "2       78207  Central  OFF-BI-10004995  Office Supplies      Binders   \n",
      "3       80027     West  TEC-MA-10000822       Technology     Machines   \n",
      "4       60653  Central  OFF-BI-10001120  Office Supplies      Binders   \n",
      "5       43055     East  TEC-MA-10000418       Technology     Machines   \n",
      "6       77095  Central  OFF-BI-10003527  Office Supplies      Binders   \n",
      "7       28027    South  FUR-TA-10000198          Frnture       Tables   \n",
      "8       77041  Central  OFF-BI-10004995  Office Supplies      Binders   \n",
      "9       32216   Southh  TEC-MA-10002412       Technology     Machines   \n",
      "\n",
      "                                        Product Name      Sales  Quantity  \\\n",
      "0          Cubify CubeX 3D Printer Double Head Print   4499.985         5   \n",
      "1          Cubify CubeX 3D Printer Triple Head Print   7999.980         4   \n",
      "2          GBC DocuBind P400 Electric Binding System   2177.584         8   \n",
      "3          Lexmark MX611dhe Monochrome Laser Printer   2549.985         5   \n",
      "4               Ibico EPK-21 Electric Binding System   1889.990         5   \n",
      "5          Cubify CubeX 3D Printer Double Head Print   1799.994       Two   \n",
      "6  Fellowes PB500 Electric Punch Plastic Comb Bin...   1525.188         6   \n",
      "7  Chromcraft Bull-Nose Wood Oval Conference Tabl...   4297.644  Thirteen   \n",
      "8          GBC DocuBind P400 Electric Binding System   1088.792         4   \n",
      "9  Cisco TelePresence System EX90 Videoconferenci...  22638.480         6   \n",
      "\n",
      "  Discount        Profit  \n",
      "0      0.7     -6599.978  \n",
      "1      0.5    -3839.9904  \n",
      "2      0.8    -3701.8928  \n",
      "3      0.7      -3399.98  \n",
      "4      0.8    -2929.4845  \n",
      "5      0.7  \"-2639.9912\"  \n",
      "6      0.8     -2287.782  \n",
      "7      0.4           NaN  \n",
      "8      0.8    -1850.9464  \n",
      "9      0.5    -1811.0784  \n",
      "\n",
      "[10 rows x 21 columns]\n"
     ]
    }
   ],
   "execution_count": 27
  },
  {
   "metadata": {},
   "cell_type": "markdown",
   "source": [
    "Task 2\n",
    "\n",
    "0.1 Exploratory Data Analysis\n",
    "\n",
    "Key observation: The dtype for profit and quantity are objects not Float 64 like discount and sales. This will limit our ability to undertake covariance and coeffcient analysis unless resolved."
   ],
   "id": "8f7377814849eaa7"
  },
  {
   "metadata": {
    "ExecuteTime": {
     "end_time": "2024-06-14T07:05:20.545082Z",
     "start_time": "2024-06-14T07:05:20.532632Z"
    }
   },
   "cell_type": "code",
   "source": [
    "print(df_customer_order_info.shape)\n",
    "print(\"verify features\", df_customer_order_info.columns)"
   ],
   "id": "6fde3124f13a25d9",
   "outputs": [
    {
     "name": "stdout",
     "output_type": "stream",
     "text": [
      "(9994, 21)\n",
      "verify features Index(['Row ID', 'Order ID', 'Order Date', 'Ship Date', 'Ship Mode',\n",
      "       'Customer ID', 'Customer Name', 'Segment', 'Country', 'City', 'State',\n",
      "       'Postal Code', 'Region', 'Product ID', 'Category', 'Sub-Category',\n",
      "       'Product Name', 'Sales', 'Quantity', 'Discount', 'Profit'],\n",
      "      dtype='object')\n"
     ]
    }
   ],
   "execution_count": 34
  },
  {
   "metadata": {
    "ExecuteTime": {
     "end_time": "2024-06-14T07:01:26.015521Z",
     "start_time": "2024-06-14T07:01:25.985190Z"
    }
   },
   "cell_type": "code",
   "source": "print(df_customer_order_info.info())",
   "id": "ff982c8bea81bf39",
   "outputs": [
    {
     "name": "stdout",
     "output_type": "stream",
     "text": [
      "<class 'pandas.core.frame.DataFrame'>\n",
      "RangeIndex: 9994 entries, 0 to 9993\n",
      "Data columns (total 21 columns):\n",
      " #   Column         Non-Null Count  Dtype  \n",
      "---  ------         --------------  -----  \n",
      " 0   Row ID         9994 non-null   int64  \n",
      " 1   Order ID       9993 non-null   object \n",
      " 2   Order Date     9992 non-null   object \n",
      " 3   Ship Date      9991 non-null   object \n",
      " 4   Ship Mode      9990 non-null   object \n",
      " 5   Customer ID    9994 non-null   object \n",
      " 6   Customer Name  9991 non-null   object \n",
      " 7   Segment        9991 non-null   object \n",
      " 8   Country        9990 non-null   object \n",
      " 9   City           9992 non-null   object \n",
      " 10  State          9990 non-null   object \n",
      " 11  Postal Code    9991 non-null   object \n",
      " 12  Region         9991 non-null   object \n",
      " 13  Product ID     9992 non-null   object \n",
      " 14  Category       9992 non-null   object \n",
      " 15  Sub-Category   9990 non-null   object \n",
      " 16  Product Name   9991 non-null   object \n",
      " 17  Sales          9993 non-null   float64\n",
      " 18  Quantity       9989 non-null   object \n",
      " 19  Discount       9991 non-null   float64\n",
      " 20  Profit         9983 non-null   object \n",
      "dtypes: float64(2), int64(1), object(18)\n",
      "memory usage: 1.6+ MB\n",
      "None\n"
     ]
    }
   ],
   "execution_count": 20
  },
  {
   "metadata": {},
   "cell_type": "markdown",
   "source": "",
   "id": "970fdf6dc0e5b708"
  },
  {
   "metadata": {},
   "cell_type": "markdown",
   "source": "A requirement of descriptive analysis and feature engineering is good numeric data devoid of NaNs and missing values. This “so called” preprocessing must be undertaken first as the alternative is that we cannot perform median, skew, kurtosis, coefficient of sales, profits, quantity and discounting, nor can we look at linear relationships between key numeric sales and say profits. Therefore for effectiveness of descriptive analysis data-cleaning is a requirement.",
   "id": "6be393b90fd60270"
  },
  {
   "metadata": {
    "ExecuteTime": {
     "end_time": "2024-06-14T07:01:31.363526Z",
     "start_time": "2024-06-14T07:01:31.335655Z"
    }
   },
   "cell_type": "code",
   "source": "print(df_customer_order_info.isnull().sum())",
   "id": "af49e00c22f33cd4",
   "outputs": [
    {
     "name": "stdout",
     "output_type": "stream",
     "text": [
      "Row ID            0\n",
      "Order ID          1\n",
      "Order Date        2\n",
      "Ship Date         3\n",
      "Ship Mode         4\n",
      "Customer ID       0\n",
      "Customer Name     3\n",
      "Segment           3\n",
      "Country           4\n",
      "City              2\n",
      "State             4\n",
      "Postal Code       3\n",
      "Region            3\n",
      "Product ID        2\n",
      "Category          2\n",
      "Sub-Category      4\n",
      "Product Name      3\n",
      "Sales             1\n",
      "Quantity          5\n",
      "Discount          3\n",
      "Profit           11\n",
      "dtype: int64\n"
     ]
    }
   ],
   "execution_count": 21
  },
  {
   "metadata": {},
   "cell_type": "markdown",
   "source": "For the next steps i will remove NaNs and missing values from the entire dataset. To maintain the integrity of the underlying data i will use machine learning notably the Ramdom Forrest regressor for imputation. These techniques go beyond just using the mean to plug missing values.",
   "id": "a5c19443d7a6d0e6"
  },
  {
   "metadata": {},
   "cell_type": "markdown",
   "source": [
    "0.2 Data preprocessing\n",
    "\n",
    "First we put all numeric features in a dataframe."
   ],
   "id": "d57d315d7bed22d3"
  },
  {
   "metadata": {
    "ExecuteTime": {
     "end_time": "2024-06-14T07:01:37.514860Z",
     "start_time": "2024-06-14T07:01:37.497752Z"
    }
   },
   "cell_type": "code",
   "source": [
    "df_numeric_cust_features = pd.DataFrame()\n",
    "df_numeric_cust_features['Sales'] = df_customer_order_info['Sales']\n",
    "df_numeric_cust_features['Quantity'] = df_customer_order_info['Quantity']\n",
    "df_numeric_cust_features['Discount'] = df_customer_order_info['Discount']\n",
    "df_numeric_cust_features['Profit'] = df_customer_order_info['Profit']\n",
    "\n",
    "print(\"numeric features\", df_numeric_cust_features)\n",
    "print(\"numeric feature shape\", df_numeric_cust_features.shape)"
   ],
   "id": "8b80238bac6e6d83",
   "outputs": [
    {
     "name": "stdout",
     "output_type": "stream",
     "text": [
      "numeric features           Sales Quantity  Discount      Profit\n",
      "0      4499.985        5       0.7   -6599.978\n",
      "1      7999.980        4       0.5  -3839.9904\n",
      "2      2177.584        8       0.8  -3701.8928\n",
      "3      2549.985        5       0.7    -3399.98\n",
      "4      1889.990        5       0.8  -2929.4845\n",
      "...         ...      ...       ...         ...\n",
      "9989   9449.950        5       0.0   4630.4755\n",
      "9990   9892.740       13       0.0     4946.37\n",
      "9991  10499.970        3       0.0   5039.9856\n",
      "9992  13999.960        4       0.0   6719.9808\n",
      "9993  17499.950        5       0.0    8399.976\n",
      "\n",
      "[9994 rows x 4 columns]\n",
      "numeric feature shape (9994, 4)\n"
     ]
    }
   ],
   "execution_count": 22
  },
  {
   "metadata": {},
   "cell_type": "markdown",
   "source": "",
   "id": "cbbf2597abc44abe"
  },
  {
   "metadata": {},
   "cell_type": "markdown",
   "source": [
    "0.3 Data processing\n",
    "\n",
    "Group categorical set into single datafram."
   ],
   "id": "54b6556bfb6645b7"
  },
  {
   "metadata": {
    "ExecuteTime": {
     "end_time": "2024-06-14T07:01:48.820141Z",
     "start_time": "2024-06-14T07:01:48.796394Z"
    }
   },
   "cell_type": "code",
   "source": [
    "\n",
    "df_categorical_cust_info = df_customer_order_info\n",
    "df_categorical_cust_info.drop('Sales', axis=1, inplace=True)\n",
    "df_categorical_cust_info.drop('Quantity', axis=1, inplace=True)\n",
    "df_categorical_cust_info.drop('Discount', axis=1, inplace=True)\n",
    "df_categorical_cust_info.drop('Profit', axis=1, inplace=True)\n",
    "\n",
    "print(\"categorical features\", df_categorical_cust_info)\n",
    "print(\"categorical feature shape\", df_categorical_cust_info.shape)"
   ],
   "id": "f68a40f635fcabc",
   "outputs": [
    {
     "name": "stdout",
     "output_type": "stream",
     "text": [
      "categorical features       Row ID        Order ID  Order Date   Ship Date       Ship Mode  \\\n",
      "0       7773  CA-2016-108196  25/11/2016  12/02/2016  Standard Class   \n",
      "1        684  US-2017-168116  11/04/2017  11/04/2017        Same Day   \n",
      "2       9775  CA-2014-169019  26/07/2014  30/07/2014  Standard Class   \n",
      "3       3012  CA-2017-134845  17/04/2017  24/04/2017  Standard Class   \n",
      "4       4992  US-2017-122714  12/07/2017  13/12/2017  Standard Class   \n",
      "...      ...             ...         ...         ...             ...   \n",
      "9989    4099  CA-2014-116904  23/09/2014  28/09/2014  Standard Class   \n",
      "9990    9040  CA-2016-117121  17/12/2016  21/12/2016  Standard Class   \n",
      "9991    4191  CA-2017-166709  17/11/2017  22/11/2017  Standard Class   \n",
      "9992    8154  CA-2017-140151  23/03/2017  25/03/2017     First Class   \n",
      "9993    6827  CA-2016-118689  10/02/2016  10/09/2016  Standard Class   \n",
      "\n",
      "     Customer ID   Customer Name      Segment        Country         City  \\\n",
      "0       CS-12505   Cindy Stewart     Consumer  United States    Lancaster   \n",
      "1       GT-14635  Grant Thornton    Corporate  United States   Burlington   \n",
      "2       LF-17185     Luke Foster     Consumer  United States  San Antonio   \n",
      "3       SR-20425  Sharelle Roach  Home Office  United States   Louisville   \n",
      "4       HG-14965   Henry Goldwyn    Corporate  United States      Chicago   \n",
      "...          ...             ...          ...            ...          ...   \n",
      "9989    SC-20095    Sanjit Chand     Consumer  United States  Minneapolis   \n",
      "9990    AB-10105   Adrian Barton     Consumer  United States      Detroit   \n",
      "9991    HL-15040    Hunter Lopez     Consumer  United States       Newark   \n",
      "9992    RB-19360    Raymond Buch     Consumer  United States      Seattle   \n",
      "9993    TC-20980    Tamara Chand    Corporate  United States    Lafayette   \n",
      "\n",
      "               State Postal Code   Region       Product ID         Category  \\\n",
      "0               Ohio       43130      Est  TEC-MA-10000418       Technology   \n",
      "1     North Carolina     \"27217\"    South  TEC-MA-10004125       Technology   \n",
      "2              Texas       78207  Central  OFF-BI-10004995  Office Supplies   \n",
      "3           Colorado       80027     West  TEC-MA-10000822       Technology   \n",
      "4           Illinois       60653  Central  OFF-BI-10001120  Office Supplies   \n",
      "...              ...         ...      ...              ...              ...   \n",
      "9989       Minnesota       55407  Central  OFF-BI-10001120  Office Supplies   \n",
      "9990        Michigan       48205  Central  OFF-BI-10000545  Office Supplies   \n",
      "9991        Delaware       19711     East  TEC-CO-10004722       Technology   \n",
      "9992      Washington       98115     West  TEC-CO-10004722       Technology   \n",
      "9993         Indiana       47905  Central  TEC-CO-10004722       Technology   \n",
      "\n",
      "     Sub-Category                                      Product Name  \n",
      "0        Machines         Cubify CubeX 3D Printer Double Head Print  \n",
      "1        Machines         Cubify CubeX 3D Printer Triple Head Print  \n",
      "2         Binders         GBC DocuBind P400 Electric Binding System  \n",
      "3        Machines         Lexmark MX611dhe Monochrome Laser Printer  \n",
      "4         Binders              Ibico EPK-21 Electric Binding System  \n",
      "...           ...                                               ...  \n",
      "9989      Binders              Ibico EPK-21 Electric Binding System  \n",
      "9990      Binders  GBC Ibimaster 500 Manual ProClick Binding System  \n",
      "9991      Copiers             Canon imageCLASS 2200 Advanced Copier  \n",
      "9992      Copiers             Canon imageCLASS 2200 Advanced Copier  \n",
      "9993      Copiers             Canon imageCLASS 2200 Advanced Copier  \n",
      "\n",
      "[9994 rows x 17 columns]\n",
      "categorical feature shape (9994, 17)\n"
     ]
    }
   ],
   "execution_count": 23
  },
  {
   "metadata": {},
   "cell_type": "markdown",
   "source": [
    "1.3 Data preprocessing\n",
    "\n",
    "Eliminate bad data in Quantity field for downstream descriptive analysis.\n"
   ],
   "id": "f6db1e7f8b43a73b"
  },
  {
   "metadata": {
    "ExecuteTime": {
     "end_time": "2024-06-14T07:01:59.548474Z",
     "start_time": "2024-06-14T07:01:59.536148Z"
    }
   },
   "cell_type": "code",
   "source": [
    "for column in df_numeric_cust_features.columns:\n",
    "    unique_values = df_numeric_cust_features[column].unique()\n",
    "    print(f\"Unique values in {column}: {unique_values}\")"
   ],
   "id": "2ab44cc8e6f1c97a",
   "outputs": [
    {
     "name": "stdout",
     "output_type": "stream",
     "text": [
      "Unique values in Sales: [ 4499.985  7999.98   2177.584 ... 10499.97  13999.96  17499.95 ]\n",
      "Unique values in Quantity: ['5' '4' '8' 'Two' '6' 'Thirteen' '7' '3' 'Seven' '9' nan '12' '2' 'ten'\n",
      " '10' '7?' '1' '14' '13' '11']\n",
      "Unique values in Discount: [0.7  0.5  0.8  0.4  0.2  0.3  0.45 0.32 0.6   nan 0.15 0.1  0.  ]\n",
      "Unique values in Profit: ['-6599.978' '-3839.9904' '-3701.8928' ... '5039.9856' '6719.9808'\n",
      " '8399.976']\n"
     ]
    }
   ],
   "execution_count": 24
  },
  {
   "metadata": {},
   "cell_type": "markdown",
   "source": "This highlighted the problem in Quantity which i resolved using the simple replace method to ensure all values in this column are float64.",
   "id": "539b4bdf244084ff"
  },
  {
   "metadata": {
    "ExecuteTime": {
     "end_time": "2024-06-14T07:03:53.368178Z",
     "start_time": "2024-06-14T07:03:53.359365Z"
    }
   },
   "cell_type": "code",
   "source": [
    "\n",
    "df_numeric_cust_features['Quantity'] = df_numeric_cust_features['Quantity'].replace(\"Two\", 2)\n",
    "df_numeric_cust_features['Quantity'] = df_numeric_cust_features['Quantity'].replace(\"Thirteen\", 13)\n",
    "df_numeric_cust_features['Quantity'] = df_numeric_cust_features['Quantity'].replace(\"Seven\", 7)\n",
    "df_numeric_cust_features['Quantity'] = df_numeric_cust_features['Quantity'].replace(\"7?\", 7)\n",
    "df_numeric_cust_features['Quantity'] = df_numeric_cust_features['Quantity'].replace(\"ten\", 7)\n",
    "df_numeric_cust_features['Quantity'] = df_numeric_cust_features['Quantity'].replace(\"Seven\", 7)\n",
    "\n",
    "# like with like for all numerics\n",
    "df_numeric_cust_features['Quantity'].astype(float)"
   ],
   "id": "fd38806fbb6b380f",
   "outputs": [
    {
     "data": {
      "text/plain": [
       "0        5.0\n",
       "1        4.0\n",
       "2        8.0\n",
       "3        5.0\n",
       "4        5.0\n",
       "        ... \n",
       "9989     5.0\n",
       "9990    13.0\n",
       "9991     3.0\n",
       "9992     4.0\n",
       "9993     5.0\n",
       "Name: Quantity, Length: 9994, dtype: float64"
      ]
     },
     "execution_count": 28,
     "metadata": {},
     "output_type": "execute_result"
    }
   ],
   "execution_count": 28
  },
  {
   "metadata": {
    "ExecuteTime": {
     "end_time": "2024-06-11T07:32:34.470655Z",
     "start_time": "2024-06-11T07:32:34.458467Z"
    }
   },
   "cell_type": "code",
   "source": "df_numeric_cust_features.info()",
   "id": "b90cfc3d3230d1ee",
   "outputs": [
    {
     "name": "stdout",
     "output_type": "stream",
     "text": [
      "<class 'pandas.core.frame.DataFrame'>\n",
      "RangeIndex: 9994 entries, 0 to 9993\n",
      "Data columns (total 4 columns):\n",
      " #   Column    Non-Null Count  Dtype  \n",
      "---  ------    --------------  -----  \n",
      " 0   Sales     9994 non-null   float64\n",
      " 1   Quantity  9994 non-null   float64\n",
      " 2   Discount  9994 non-null   float64\n",
      " 3   Profit    9994 non-null   float64\n",
      "dtypes: float64(4)\n",
      "memory usage: 312.4 KB\n"
     ]
    }
   ],
   "execution_count": 211
  },
  {
   "metadata": {},
   "cell_type": "markdown",
   "source": [
    "1.4 data preprocessing: imputation\n",
    "\n",
    "Plug missing values and NaNs in numeric dataset "
   ],
   "id": "45245ad24d27e22a"
  },
  {
   "metadata": {},
   "cell_type": "code",
   "outputs": [],
   "execution_count": null,
   "source": "imputer = IterativeImputer(estimator=RandomForestRegressor(random_state=0), max_iter=10, random_state=0)",
   "id": "b3d0935151175f53"
  },
  {
   "metadata": {
    "ExecuteTime": {
     "end_time": "2024-06-14T10:26:12.777429Z",
     "start_time": "2024-06-14T10:26:12.755255Z"
    }
   },
   "cell_type": "code",
   "source": [
    "df_numeric_cust_features['Quantity'] = imputer.fit_transform(df_numeric_cust_features[['Quantity']])\n",
    "df_numeric_cust_features['Sales'] = imputer.fit_transform(df_numeric_cust_features[['Sales']])\n",
    "df_numeric_cust_features['Discount'] = imputer.fit_transform(df_numeric_cust_features[['Discount']])\n",
    "df_numeric_cust_features.info()\n",
    "print(df_numeric_cust_features)"
   ],
   "id": "d5320fa5edb8ea7",
   "outputs": [
    {
     "name": "stdout",
     "output_type": "stream",
     "text": [
      "<class 'pandas.core.frame.DataFrame'>\n",
      "RangeIndex: 9994 entries, 0 to 9993\n",
      "Data columns (total 4 columns):\n",
      " #   Column    Non-Null Count  Dtype  \n",
      "---  ------    --------------  -----  \n",
      " 0   Sales     9994 non-null   float64\n",
      " 1   Quantity  9994 non-null   float64\n",
      " 2   Discount  9994 non-null   float64\n",
      " 3   Profit    9994 non-null   float64\n",
      "dtypes: float64(4)\n",
      "memory usage: 312.4 KB\n",
      "          Sales  Quantity  Discount     Profit\n",
      "0      4499.985       5.0       0.7 -6599.9780\n",
      "1      7999.980       4.0       0.5 -3839.9904\n",
      "2      2177.584       8.0       0.8 -3701.8928\n",
      "3      2549.985       5.0       0.7 -3399.9800\n",
      "4      1889.990       5.0       0.8 -2929.4845\n",
      "...         ...       ...       ...        ...\n",
      "9989   9449.950       5.0       0.0  4630.4755\n",
      "9990   9892.740      13.0       0.0  4946.3700\n",
      "9991  10499.970       3.0       0.0  5039.9856\n",
      "9992  13999.960       4.0       0.0  6719.9808\n",
      "9993  17499.950       5.0       0.0  8399.9760\n",
      "\n",
      "[9994 rows x 4 columns]\n"
     ]
    }
   ],
   "execution_count": 111
  },
  {
   "metadata": {},
   "cell_type": "markdown",
   "source": [
    "0.4 Data processing\n",
    "\n",
    "Confirm all bad data is eliminated \n",
    "\n"
   ],
   "id": "3820099b930e8286"
  },
  {
   "metadata": {
    "ExecuteTime": {
     "end_time": "2024-06-14T07:06:04.997017Z",
     "start_time": "2024-06-14T07:06:04.986739Z"
    }
   },
   "cell_type": "code",
   "source": "df_numeric_cust_features.isnull().sum()",
   "id": "5bc30572d9df8652",
   "outputs": [
    {
     "data": {
      "text/plain": [
       "Sales        0\n",
       "Quantity     0\n",
       "Discount     0\n",
       "Profit      11\n",
       "dtype: int64"
      ]
     },
     "execution_count": 37,
     "metadata": {},
     "output_type": "execute_result"
    }
   ],
   "execution_count": 37
  },
  {
   "metadata": {},
   "cell_type": "markdown",
   "source": [
    "0.5 Data processioning: Profit bad data\n",
    "\n",
    "Use machine learning to predict values for missing values and fix bad data.\n"
   ],
   "id": "f454637e000fc2f8"
  },
  {
   "metadata": {
    "ExecuteTime": {
     "end_time": "2024-06-14T10:31:54.075822Z",
     "start_time": "2024-06-14T10:31:53.996436Z"
    }
   },
   "cell_type": "code",
   "source": [
    "df_numeric_cust_features['Profit'] = df_numeric_cust_features['Profit'].apply(lambda x: str(x).replace('\"', '').strip())\n",
    "df_numeric_cust_features['Profit'].astype(float)\n",
    "df_numeric_cust_features['Profit'] = imputer.fit_transform(df_numeric_cust_features[['Profit']])\n"
   ],
   "id": "712d89063e12d066",
   "outputs": [],
   "execution_count": 112
  },
  {
   "metadata": {},
   "cell_type": "markdown",
   "source": "Check to ensure there are no blanks or NaNs left in Profit and that it is clean.",
   "id": "2208f93f8342ce02"
  },
  {
   "metadata": {
    "ExecuteTime": {
     "end_time": "2024-06-14T10:33:19.668646Z",
     "start_time": "2024-06-14T10:33:19.637531Z"
    }
   },
   "cell_type": "code",
   "source": [
    "profit_nan =df_numeric_cust_features['Profit'].isna().sum()\n",
    "print(profit_nan)"
   ],
   "id": "6105b4de05729aed",
   "outputs": [
    {
     "name": "stdout",
     "output_type": "stream",
     "text": [
      "0\n"
     ]
    }
   ],
   "execution_count": 113
  },
  {
   "metadata": {},
   "cell_type": "markdown",
   "source": "1.6.1 A quick sense check and review of numeric data to confirm it is now super clean.",
   "id": "69b1d2fafd2af7df"
  },
  {
   "metadata": {
    "ExecuteTime": {
     "end_time": "2024-06-14T10:33:32.973391Z",
     "start_time": "2024-06-14T10:33:32.927115Z"
    }
   },
   "cell_type": "code",
   "source": [
    "numeric_file_path = \"/Users/godfreykrutzsch/Desktop/MSc/Assignment/SenseCheck.csv\"\n",
    "df_numeric_cust_features.to_csv(numeric_file_path, index=True)"
   ],
   "id": "ba9d474e7037082f",
   "outputs": [],
   "execution_count": 114
  },
  {
   "metadata": {},
   "cell_type": "markdown",
   "source": "",
   "id": "a1015585b1a68ebb"
  },
  {
   "metadata": {},
   "cell_type": "markdown",
   "source": [
    "Task 2\n",
    "\n",
    "1.1 Descriptive statistics analysis."
   ],
   "id": "f1944f6f82fb62fb"
  },
  {
   "metadata": {},
   "cell_type": "markdown",
   "source": [
    "* There is a material difference between the mean 229 and the median 54 in sales.\n",
    "* This indicates there are substantial outliers in the sales numbers.\n",
    "* These outliers influence the mean and make it less representative.\n",
    "* The mean (229) is significantly greater than the median (54) which means it is positively skewed (right skewed) and the median represents the sales data better for decision making\n"
   ],
   "id": "a3ff7113974f3561"
  },
  {
   "metadata": {},
   "cell_type": "code",
   "outputs": [
    {
     "data": {
      "text/plain": [
       "229.8637796757731"
      ]
     },
     "execution_count": 37,
     "metadata": {},
     "output_type": "execute_result"
    }
   ],
   "execution_count": 37,
   "source": "df_numeric_cust_features['Sales'].mean()",
   "id": "fbfc9931c0e752d3"
  },
  {
   "metadata": {},
   "cell_type": "code",
   "outputs": [
    {
     "data": {
      "text/plain": [
       "54.489999999999995"
      ]
     },
     "execution_count": 38,
     "metadata": {},
     "output_type": "execute_result"
    }
   ],
   "execution_count": 38,
   "source": "df_numeric_cust_features['Sales'].median()",
   "id": "ac18be84b52b5fa1"
  },
  {
   "metadata": {},
   "cell_type": "markdown",
   "source": "",
   "id": "eb7d8c740dd4a9bc"
  },
  {
   "metadata": {},
   "cell_type": "markdown",
   "source": [
    "* The most frequently occurring sales figure is 12.96.\n",
    "* This is closer to the median 55 and far away from the distorted mean  229 by the outliers."
   ],
   "id": "dee41f0349fd1bb7"
  },
  {
   "metadata": {},
   "cell_type": "code",
   "outputs": [
    {
     "name": "stdout",
     "output_type": "stream",
     "text": [
      "0    12.96\n",
      "Name: Sales, dtype: float64\n"
     ]
    }
   ],
   "execution_count": 45,
   "source": [
    "mode_numeric = df_numeric_cust_features['Sales'].mode()\n",
    "print(mode_numeric)"
   ],
   "id": "288a0d55720f822c"
  },
  {
   "metadata": {},
   "cell_type": "markdown",
   "source": "",
   "id": "3650552cc42197ba"
  },
  {
   "metadata": {},
   "cell_type": "markdown",
   "source": [
    "* There is a significant difference between the mean and variance. \n",
    "* The sales are spread-out widely around the mean which we know is already distorted.\n",
    "* The bigger the difference between the variance and the mean, the more the sales are harder to predict and unstable with a minority of random big outliers exacerbating the situation."
   ],
   "id": "9bd4a5bfd94c2e00"
  },
  {
   "metadata": {},
   "cell_type": "code",
   "outputs": [
    {
     "data": {
      "text/plain": [
       "388434.12155791826"
      ]
     },
     "execution_count": 46,
     "metadata": {},
     "output_type": "execute_result"
    }
   ],
   "execution_count": 46,
   "source": "df_numeric_cust_features['Sales'].var()",
   "id": "6d7185c45e8a778b"
  },
  {
   "metadata": {},
   "cell_type": "markdown",
   "source": "* The standard deviation reinforces the findings of the variance and should signify the start of the outliers which we will check later.",
   "id": "9768cbffb8c6dd7e"
  },
  {
   "metadata": {},
   "cell_type": "code",
   "outputs": [
    {
     "data": {
      "text/plain": [
       "623.244832756693"
      ]
     },
     "execution_count": 47,
     "metadata": {},
     "output_type": "execute_result"
    }
   ],
   "execution_count": 47,
   "source": "df_numeric_cust_features['Sales'].std()",
   "id": "976ec5bc9315c916"
  },
  {
   "metadata": {},
   "cell_type": "markdown",
   "source": [
    "1.2 The insights from correlation Sales to Discount\n",
    "\n",
    "*  The correlation is -0.02 there is no linear relation between sales and discounts.\n",
    "* Changes in discount does not have no linear impact on sales.\n",
    "* The firm gives discount to every single sale, regardless, therefore the -0.02 is correct.\n"
   ],
   "id": "282eb9cc577ff5f"
  },
  {
   "metadata": {
    "ExecuteTime": {
     "end_time": "2024-06-14T07:04:02.248717Z",
     "start_time": "2024-06-14T07:04:01.969333Z"
    }
   },
   "cell_type": "code",
   "source": [
    "# Scatter plot\n",
    "plt.figure(figsize=(10, 6))\n",
    "sns.scatterplot(x=df_numeric_cust_features['Sales'], y= df_numeric_cust_features['Discount'])\n",
    "\n",
    "# Add titles and labels\n",
    "plt.title('Scatter Plot of Sales vs. Discount')\n",
    "plt.xlabel('Sales')\n",
    "plt.ylabel('Discount')\n",
    "\n",
    "# Show the plot\n",
    "plt.show()\n"
   ],
   "id": "d6b3330ecd9c0d6e",
   "outputs": [
    {
     "data": {
      "text/plain": [
       "<Figure size 1000x600 with 1 Axes>"
      ],
      "image/png": "[encoded data removed]"
     },
     "metadata": {},
     "output_type": "display_data"
    }
   ],
   "execution_count": 29
  },
  {
   "metadata": {},
   "cell_type": "markdown",
   "source": [
    "Task 2\n",
    "\n",
    "2.1 Outlier treatment.\n",
    " \n",
    "* in previous section every initiative reinforced the notion of outliers e.g. mean, median, variance and standard deviation. \n",
    "* The high skew 12 and kurtosis 305 used with our sales leaves no doubt that there are big outliers (sales transactions) in the numeric dataset skewing the result.\n",
    "* The 90 - 100th percentile has a significant jump due to the outlier big sales.\n"
   ],
   "id": "fcbe4564c29edd18"
  },
  {
   "metadata": {},
   "cell_type": "code",
   "outputs": [
    {
     "data": {
      "text/plain": [
       "12.972741318960942"
      ]
     },
     "execution_count": 48,
     "metadata": {},
     "output_type": "execute_result"
    }
   ],
   "execution_count": 48,
   "source": "df_numeric_cust_features['Sales'].skew()",
   "id": "d4665959bf13b64f"
  },
  {
   "metadata": {},
   "cell_type": "code",
   "outputs": [
    {
     "name": "stdout",
     "output_type": "stream",
     "text": [
      "305.3118017200354\n"
     ]
    }
   ],
   "execution_count": 122,
   "source": [
    "kurtosis_value = df_numeric_cust_features['Sales'].kurtosis()\n",
    "print(kurtosis_value)"
   ],
   "id": "22dc9556f0b7da77"
  },
  {
   "metadata": {},
   "cell_type": "code",
   "outputs": [
    {
     "name": "stdout",
     "output_type": "stream",
     "text": [
      "956.9842450000003\n"
     ]
    }
   ],
   "execution_count": 157,
   "source": [
    "percentile_value = np.percentile(df_numeric_cust_features['Sales'], 95)\n",
    "print(percentile_value)"
   ],
   "id": "a790437a9fea2166"
  },
  {
   "metadata": {},
   "cell_type": "markdown",
   "source": [
    "\n",
    "2.2 Sales distribution\n",
    "\n",
    "The Sales data is a positive skew to the right this means\n",
    "* There are a few outliers Sales that pull the average up (mean 229 vs median 55).\n",
    "* The majority of sales transactions are much smaller (mode) €12.96\n",
    "* The business risk is the firm relies on a few big outliers to balance the books."
   ],
   "id": "f8821c97d8974003"
  },
  {
   "metadata": {
    "ExecuteTime": {
     "end_time": "2024-06-14T10:10:57.093085Z",
     "start_time": "2024-06-14T10:10:56.710596Z"
    }
   },
   "cell_type": "code",
   "source": [
    "sns.histplot(df_numeric_cust_features['Sales']).set_title(\"Distribution of SalePrice\")\n",
    "plt.show()\n",
    "\n"
   ],
   "id": "72b769ac4fdd0e2b",
   "outputs": [
    {
     "name": "stderr",
     "output_type": "stream",
     "text": [
      "/opt/anaconda3/lib/python3.11/site-packages/seaborn/_oldcore.py:1119: FutureWarning: use_inf_as_na option is deprecated and will be removed in a future version. Convert inf values to NaN before operating instead.\n",
      "  with pd.option_context('mode.use_inf_as_na', True):\n"
     ]
    },
    {
     "data": {
      "text/plain": [
       "<Figure size 640x480 with 1 Axes>"
      ],
      "image/png": "[encoded data removed]"
     },
     "metadata": {},
     "output_type": "display_data"
    }
   ],
   "execution_count": 109
  },
  {
   "metadata": {},
   "cell_type": "markdown",
   "source": [
    "2.3 Probability plot\n",
    "\n",
    "* from -4 to + 2 the sales are evenly distributed, however after 2 the outliers dramatically break away from the mean.\n"
   ],
   "id": "e5c9911db004dad3"
  },
  {
   "metadata": {},
   "cell_type": "markdown",
   "source": "",
   "id": "1b7522a8b200be42"
  },
  {
   "metadata": {},
   "cell_type": "code",
   "outputs": [
    {
     "data": {
      "text/plain": [
       "<Figure size 640x480 with 1 Axes>"
      ],
      "image/png": "[encoded data removed]"
     },
     "metadata": {},
     "output_type": "display_data"
    }
   ],
   "execution_count": 127,
   "source": [
    "fig = plt.figure()\n",
    "res = stats.probplot(df_numeric_cust_features['Sales'], plot=plt)\n",
    "plt.show()"
   ],
   "id": "b4ebb34cbedd1106"
  },
  {
   "metadata": {},
   "cell_type": "markdown",
   "source": "2.4 Outlier Treatment: delete outliers",
   "id": "ad69376ed9b7f4c1"
  },
  {
   "metadata": {},
   "cell_type": "markdown",
   "source": [
    "After removing the outliers / big sales (greater than €10,000)\n",
    "* we get half a bell of the normal distribution.\n",
    "* the mode() result advised the most reoccurring sale is €12.96 which fits with this model.\n",
    "* the median 55 fits about right in this scenario.\n",
    "\n"
   ],
   "id": "f2736ce914d0317a"
  },
  {
   "metadata": {},
   "cell_type": "code",
   "outputs": [
    {
     "name": "stdout",
     "output_type": "stream",
     "text": [
      "0       2.241991\n",
      "1       2.301316\n",
      "2       2.161762\n",
      "3       2.179766\n",
      "4       2.145329\n",
      "          ...   \n",
      "9989    2.317855\n",
      "9990    2.322354\n",
      "9991    2.328177\n",
      "9992    2.355830\n",
      "9993    2.376765\n",
      "Name: Sales, Length: 9994, dtype: float64\n",
      "         Sales  Quantity  Discount     Profit\n",
      "0     2.241991       5.0       0.7 -6599.9780\n",
      "1     2.301316       4.0       0.5 -3839.9904\n",
      "2     2.161762       8.0       0.8 -3701.8928\n",
      "3     2.179766       5.0       0.7 -3399.9800\n",
      "4     2.145329       5.0       0.8 -2929.4845\n",
      "...        ...       ...       ...        ...\n",
      "9989  2.317855       5.0       0.0  4630.4755\n",
      "9990  2.322354      13.0       0.0  4946.3700\n",
      "9991  2.328177       3.0       0.0  5039.9856\n",
      "9992  2.355830       4.0       0.0  6719.9808\n",
      "9993  2.376765       5.0       0.0  8399.9760\n",
      "\n",
      "[9994 rows x 4 columns]\n"
     ]
    },
    {
     "name": "stderr",
     "output_type": "stream",
     "text": [
      "/opt/anaconda3/lib/python3.11/site-packages/seaborn/_oldcore.py:1119: FutureWarning: use_inf_as_na option is deprecated and will be removed in a future version. Convert inf values to NaN before operating instead.\n",
      "  with pd.option_context('mode.use_inf_as_na', True):\n"
     ]
    },
    {
     "data": {
      "text/plain": [
       "<Figure size 640x480 with 1 Axes>"
      ],
      "image/png": "[encoded data removed]"
     },
     "metadata": {},
     "output_type": "display_data"
    }
   ],
   "execution_count": 164,
   "source": [
    "def distribution_graph_no_outlier():\n",
    "    # with data capture below 1000 this shows a part of the distribution.\n",
    "\n",
    "    print(df_numeric_cust_features['Sales'])\n",
    "    # df_numeric_no_outlier = df_numeric_cust_features.drop(df_numeric_cust_features['Sales'] > 6000)\n",
    "    df_numeric_no_outlier = df_numeric_cust_features[df_numeric_cust_features['Sales'] <= 1000]\n",
    "    sns.histplot(df_numeric_no_outlier['Sales'])\n",
    "    print(df_numeric_no_outlier)\n",
    "    plt.show()\n",
    "    \n",
    "\n",
    "distribution_graph_no_outlier()"
   ],
   "id": "e39c343a87abaa7"
  },
  {
   "metadata": {},
   "cell_type": "markdown",
   "source": [
    "2.5 Outlier treatment: Log transformation\n",
    "\n",
    "* will reduce impact of outliers as below\n",
    "* will make data more normally distributed\n",
    "* distribution supports 0.50 median.\n",
    "* risk sales figures are changed.\n",
    "* model is still skewed."
   ],
   "id": "d00b0c6596f6d900"
  },
  {
   "metadata": {
    "ExecuteTime": {
     "end_time": "2024-06-10T09:13:21.706684Z",
     "start_time": "2024-06-10T09:13:21.459602Z"
    }
   },
   "cell_type": "code",
   "source": [
    "df_numeric_logchange = pd.DataFrame()\n",
    "df_numeric_logchange['Sales'] = np.log1p(df_numeric_cust_features['Sales'])\n",
    "sns.histplot(df_numeric_logchange['Sales'], bins=20)\n",
    "# probability plot\n",
    "fig = plt.figure()\n",
    "res = stats.probplot(df_numeric_logchange['Sales'], plot=plt)\n",
    "plt.show()"
   ],
   "id": "f9d6cf6278eae244",
   "outputs": [
    {
     "name": "stderr",
     "output_type": "stream",
     "text": [
      "/opt/anaconda3/lib/python3.11/site-packages/seaborn/_oldcore.py:1119: FutureWarning: use_inf_as_na option is deprecated and will be removed in a future version. Convert inf values to NaN before operating instead.\n",
      "  with pd.option_context('mode.use_inf_as_na', True):\n"
     ]
    },
    {
     "data": {
      "text/plain": [
       "<Figure size 640x480 with 1 Axes>"
      ],
      "image/png": "[encoded data removed]"
     },
     "metadata": {},
     "output_type": "display_data"
    },
    {
     "data": {
      "text/plain": [
       "<Figure size 640x480 with 1 Axes>"
      ],
      "image/png": "[encoded data removed]"
     },
     "metadata": {},
     "output_type": "display_data"
    }
   ],
   "execution_count": 169
  },
  {
   "metadata": {
    "ExecuteTime": {
     "end_time": "2024-06-10T09:45:10.447002Z",
     "start_time": "2024-06-10T09:45:10.432246Z"
    }
   },
   "cell_type": "code",
   "source": "df_numeric_logchange['Sales'].mean()",
   "id": "bfe1ee498829898b",
   "outputs": [
    {
     "data": {
      "text/plain": [
       "0.5071263917292045"
      ]
     },
     "execution_count": 171,
     "metadata": {},
     "output_type": "execute_result"
    }
   ],
   "execution_count": 171
  },
  {
   "metadata": {
    "ExecuteTime": {
     "end_time": "2024-06-10T09:45:41.403666Z",
     "start_time": "2024-06-10T09:45:41.395012Z"
    }
   },
   "cell_type": "code",
   "source": "df_numeric_logchange['Sales'].median()",
   "id": "25bdd93e0739390b",
   "outputs": [
    {
     "data": {
      "text/plain": [
       "0.5146992513243358"
      ]
     },
     "execution_count": 172,
     "metadata": {},
     "output_type": "execute_result"
    }
   ],
   "execution_count": 172
  },
  {
   "metadata": {
    "ExecuteTime": {
     "end_time": "2024-06-10T09:47:29.554458Z",
     "start_time": "2024-06-10T09:47:29.534786Z"
    }
   },
   "cell_type": "code",
   "source": "df_numeric_logchange['Sales'].skew()",
   "id": "cb6fce9525aee45",
   "outputs": [
    {
     "data": {
      "text/plain": [
       "-1.1022766887817583"
      ]
     },
     "execution_count": 176,
     "metadata": {},
     "output_type": "execute_result"
    }
   ],
   "execution_count": 176
  },
  {
   "metadata": {
    "ExecuteTime": {
     "end_time": "2024-06-10T09:47:55.516881Z",
     "start_time": "2024-06-10T09:47:55.493590Z"
    }
   },
   "cell_type": "code",
   "source": "df_numeric_logchange['Sales'].kurtosis()",
   "id": "65d17ab3eb93c2d5",
   "outputs": [
    {
     "data": {
      "text/plain": [
       "1.8028068606011072"
      ]
     },
     "execution_count": 177,
     "metadata": {},
     "output_type": "execute_result"
    }
   ],
   "execution_count": 177
  },
  {
   "metadata": {
    "ExecuteTime": {
     "end_time": "2024-06-10T09:49:17.771748Z",
     "start_time": "2024-06-10T09:49:17.763475Z"
    }
   },
   "cell_type": "code",
   "source": "df_numeric_logchange['Sales'].std()",
   "id": "94ceed59c8ffa43c",
   "outputs": [
    {
     "data": {
      "text/plain": [
       "0.04279971900240532"
      ]
     },
     "execution_count": 178,
     "metadata": {},
     "output_type": "execute_result"
    }
   ],
   "execution_count": 178
  },
  {
   "metadata": {},
   "cell_type": "markdown",
   "source": [
    "3.0 Normalization and Scaling\n",
    "\n",
    "3.1 Standard scaler tries to make data distributed and reduces the skew but it seems that it is affected by outliers. It scales the data to a fixed range between 0 and 1. "
   ],
   "id": "907dcec2968873e8"
  },
  {
   "metadata": {
    "ExecuteTime": {
     "end_time": "2024-06-14T07:06:46.456278Z",
     "start_time": "2024-06-14T07:06:46.443634Z"
    }
   },
   "cell_type": "code",
   "source": [
    "scaler_numeric = StandardScaler()\n",
    "\n",
    "df_scaled_numeric_features = pd.DataFrame(scaler_numeric.fit_transform(df_numeric_cust_features[['Sales','Quantity','Profit','Discount']]),columns=['Sales','Quantity','Profit','Discount'])\n",
    "print(df_scaled_numeric_features)"
   ],
   "id": "68175ada33233e06",
   "outputs": [
    {
     "name": "stdout",
     "output_type": "stream",
     "text": [
      "          Sales  Quantity     Profit  Discount\n",
      "0      6.851777  0.544437 -28.440893  2.635324\n",
      "1     12.467821  0.094835 -16.599617  1.666135\n",
      "2      3.125285  1.893242 -16.007132  3.119918\n",
      "3      3.722834  0.544437 -14.711825  2.635324\n",
      "4      2.663816  0.544437 -12.693241  3.119918\n",
      "...         ...       ...        ...       ...\n",
      "9989  14.794423  0.544437  19.741533 -0.756837\n",
      "9990  15.504917  4.141251  21.096827 -0.756837\n",
      "9991  16.479270 -0.354766  21.498469 -0.756837\n",
      "9992  22.095306  0.094835  28.706214 -0.756837\n",
      "9993  27.711341  0.544437  35.913959 -0.756837\n",
      "\n",
      "[9994 rows x 4 columns]\n"
     ]
    }
   ],
   "execution_count": 39
  },
  {
   "metadata": {},
   "cell_type": "markdown",
   "source": [
    "The coeff and intercept.\n",
    "* the negative implies for each std. deviation increase of discount sales DECREASE by 0.211.\n",
    "* four each standard deviation increase in quantity the sales increase 0.320.\n",
    "* the profit has NO IMPACT on the sales."
   ],
   "id": "4c30e8a4466dc664"
  },
  {
   "metadata": {
    "ExecuteTime": {
     "end_time": "2024-06-14T07:07:12.126633Z",
     "start_time": "2024-06-14T07:07:12.103033Z"
    }
   },
   "cell_type": "code",
   "source": [
    "from sklearn.linear_model import LinearRegression\n",
    "\n",
    "x_scaled = df_scaled_numeric_features[['Discount','Quantity','Profit']]\n",
    "y_scaled = df_scaled_numeric_features['Sales']\n",
    "\n",
    "reg_model = LinearRegression()\n",
    "reg_model.fit(x_scaled, y_scaled)\n",
    "print(reg_model.coef_)\n",
    "print(reg_model.intercept_)\n",
    "\n"
   ],
   "id": "f8b73ad74b797767",
   "outputs": [
    {
     "name": "stdout",
     "output_type": "stream",
     "text": [
      "[0.07795884 0.16466913 0.49352638]\n",
      "-3.4933750519964956e-17\n"
     ]
    }
   ],
   "execution_count": 40
  },
  {
   "metadata": {},
   "cell_type": "markdown",
   "source": "we can transform the data for further analysis with some feature engineering.",
   "id": "af318ee1c07d344b"
  },
  {
   "metadata": {
    "ExecuteTime": {
     "end_time": "2024-06-12T08:27:06.144779Z",
     "start_time": "2024-06-12T08:27:06.126676Z"
    }
   },
   "cell_type": "code",
   "source": [
    "df_scaled_numeric_features['Scaled_Total_Revenue'] = df_scaled_numeric_features['Sales'] * df_scaled_numeric_features['Quantity']\n",
    "df_scaled_numeric_features['Scaled_Profit_margin'] = df_scaled_numeric_features['Profit'] / df_scaled_numeric_features['Sales']\n",
    "print(df_scaled_numeric_features)\n"
   ],
   "id": "4e6acf4e4a48a81b",
   "outputs": [
    {
     "name": "stdout",
     "output_type": "stream",
     "text": [
      "         Sales  Quantity     Profit  Discount  Scaled_Total_Revenue  \\\n",
      "0     1.662075  0.544437 -28.440893  2.635324              0.904895   \n",
      "1     1.781422  0.094835 -16.599617  1.666135              0.168942   \n",
      "2     1.495506  1.893242 -16.007132  3.119918              2.831355   \n",
      "3     1.533419  0.544437 -14.711825  2.635324              0.834850   \n",
      "4     1.460624  0.544437 -12.693241  3.119918              0.795218   \n",
      "...        ...       ...        ...       ...                   ...   \n",
      "9989  1.814138  0.544437  19.741533 -0.756837              0.987684   \n",
      "9990  1.822997  4.141251  21.096827 -0.756837              7.549489   \n",
      "9991  1.834437 -0.354766  21.498469 -0.756837             -0.650796   \n",
      "9992  1.888370  0.094835  28.706214 -0.756837              0.179084   \n",
      "9993  1.928773  0.544437  35.913959 -0.756837              1.050095   \n",
      "\n",
      "      Scaled_Profit_margin  \n",
      "0               -17.111683  \n",
      "1                -9.318184  \n",
      "2               -10.703489  \n",
      "3                -9.594132  \n",
      "4                -8.690284  \n",
      "...                    ...  \n",
      "9989             10.882045  \n",
      "9990             11.572605  \n",
      "9991             11.719383  \n",
      "9992             15.201587  \n",
      "9993             18.620109  \n",
      "\n",
      "[9994 rows x 6 columns]\n"
     ]
    }
   ],
   "execution_count": 257
  },
  {
   "metadata": {
    "ExecuteTime": {
     "end_time": "2024-06-12T07:27:15.817839Z",
     "start_time": "2024-06-12T07:27:15.728825Z"
    }
   },
   "cell_type": "code",
   "source": "df_scaled_numeric_features.corr()",
   "id": "cd250988d3713770",
   "outputs": [
    {
     "data": {
      "text/plain": [
       "             Sales  Quantity    Profit  Discount\n",
       "Sales     1.000000  0.324078  0.146948 -0.225844\n",
       "Quantity  0.324078  1.000000  0.071662  0.007778\n",
       "Profit    0.146948  0.071662  1.000000 -0.217615\n",
       "Discount -0.225844  0.007778 -0.217615  1.000000"
      ],
      "text/html": [
       "<div>\n",
       "<style scoped>\n",
       "    .dataframe tbody tr th:only-of-type {\n",
       "        vertical-align: middle;\n",
       "    }\n",
       "\n",
       "    .dataframe tbody tr th {\n",
       "        vertical-align: top;\n",
       "    }\n",
       "\n",
       "    .dataframe thead th {\n",
       "        text-align: right;\n",
       "    }\n",
       "</style>\n",
       "<table border=\"1\" class=\"dataframe\">\n",
       "  <thead>\n",
       "    <tr style=\"text-align: right;\">\n",
       "      <th></th>\n",
       "      <th>Sales</th>\n",
       "      <th>Quantity</th>\n",
       "      <th>Profit</th>\n",
       "      <th>Discount</th>\n",
       "    </tr>\n",
       "  </thead>\n",
       "  <tbody>\n",
       "    <tr>\n",
       "      <th>Sales</th>\n",
       "      <td>1.000000</td>\n",
       "      <td>0.324078</td>\n",
       "      <td>0.146948</td>\n",
       "      <td>-0.225844</td>\n",
       "    </tr>\n",
       "    <tr>\n",
       "      <th>Quantity</th>\n",
       "      <td>0.324078</td>\n",
       "      <td>1.000000</td>\n",
       "      <td>0.071662</td>\n",
       "      <td>0.007778</td>\n",
       "    </tr>\n",
       "    <tr>\n",
       "      <th>Profit</th>\n",
       "      <td>0.146948</td>\n",
       "      <td>0.071662</td>\n",
       "      <td>1.000000</td>\n",
       "      <td>-0.217615</td>\n",
       "    </tr>\n",
       "    <tr>\n",
       "      <th>Discount</th>\n",
       "      <td>-0.225844</td>\n",
       "      <td>0.007778</td>\n",
       "      <td>-0.217615</td>\n",
       "      <td>1.000000</td>\n",
       "    </tr>\n",
       "  </tbody>\n",
       "</table>\n",
       "</div>"
      ]
     },
     "execution_count": 237,
     "metadata": {},
     "output_type": "execute_result"
    }
   ],
   "execution_count": 237
  },
  {
   "metadata": {
    "ExecuteTime": {
     "end_time": "2024-06-12T07:28:21.788263Z",
     "start_time": "2024-06-12T07:28:21.754164Z"
    }
   },
   "cell_type": "code",
   "source": [
    "scaled_stats= df_scaled_numeric_features.describe()\n",
    "print(scaled_stats)"
   ],
   "id": "181d9158ca28884f",
   "outputs": [
    {
     "name": "stdout",
     "output_type": "stream",
     "text": [
      "             Sales     Quantity       Profit     Discount\n",
      "count  9994.000000  9994.000000  9994.000000  9994.000000\n",
      "mean      0.754243     0.214544     0.441939     0.195224\n",
      "std       0.124508     0.171100     0.015540     0.257961\n",
      "min       0.000000     0.000000     0.000000     0.000000\n",
      "25%       0.679766     0.076923     0.440117     0.000000\n",
      "50%       0.774163     0.153846     0.440579     0.250000\n",
      "75%       0.851475     0.307692     0.441957     0.250000\n",
      "max       1.000000     1.000000     1.000000     1.000000\n"
     ]
    }
   ],
   "execution_count": 239
  },
  {
   "metadata": {},
   "cell_type": "code",
   "outputs": [],
   "execution_count": null,
   "source": "",
   "id": "e625f74495830cd1"
  },
  {
   "metadata": {},
   "cell_type": "markdown",
   "source": [
    "3.2 Standardization\n",
    "\n",
    "I applied the Min Max to my existing numeric values to standardise. This should make all numeric features similar ranges and be considered equally and is essential for downstream machine learning.\n"
   ],
   "id": "79c22ac50ecb82e0"
  },
  {
   "metadata": {
    "ExecuteTime": {
     "end_time": "2024-06-14T07:07:30.879500Z",
     "start_time": "2024-06-14T07:07:30.857598Z"
    }
   },
   "cell_type": "code",
   "source": [
    "min_max_scaler = MinMaxScaler()\n",
    "df_numeric_cust_features_scaled = min_max_scaler.fit_transform(df_numeric_cust_features)\n",
    "\n",
    "df_numeric_cust_features_scaled = pd.DataFrame(df_numeric_cust_features_scaled, columns=df_numeric_cust_features.columns)\n",
    "\n",
    "df_numeric_cust_features_scaled.head()"
   ],
   "id": "f32d6e044dc1142f",
   "outputs": [
    {
     "data": {
      "text/plain": [
       "      Sales  Quantity  Discount    Profit\n",
       "0  0.198760  0.307692     0.875  0.000000\n",
       "1  0.353367  0.230769     0.625  0.184000\n",
       "2  0.096172  0.538462     1.000  0.193206\n",
       "3  0.112622  0.307692     0.875  0.213334\n",
       "4  0.083468  0.307692     1.000  0.244700"
      ],
      "text/html": [
       "<div>\n",
       "<style scoped>\n",
       "    .dataframe tbody tr th:only-of-type {\n",
       "        vertical-align: middle;\n",
       "    }\n",
       "\n",
       "    .dataframe tbody tr th {\n",
       "        vertical-align: top;\n",
       "    }\n",
       "\n",
       "    .dataframe thead th {\n",
       "        text-align: right;\n",
       "    }\n",
       "</style>\n",
       "<table border=\"1\" class=\"dataframe\">\n",
       "  <thead>\n",
       "    <tr style=\"text-align: right;\">\n",
       "      <th></th>\n",
       "      <th>Sales</th>\n",
       "      <th>Quantity</th>\n",
       "      <th>Discount</th>\n",
       "      <th>Profit</th>\n",
       "    </tr>\n",
       "  </thead>\n",
       "  <tbody>\n",
       "    <tr>\n",
       "      <th>0</th>\n",
       "      <td>0.198760</td>\n",
       "      <td>0.307692</td>\n",
       "      <td>0.875</td>\n",
       "      <td>0.000000</td>\n",
       "    </tr>\n",
       "    <tr>\n",
       "      <th>1</th>\n",
       "      <td>0.353367</td>\n",
       "      <td>0.230769</td>\n",
       "      <td>0.625</td>\n",
       "      <td>0.184000</td>\n",
       "    </tr>\n",
       "    <tr>\n",
       "      <th>2</th>\n",
       "      <td>0.096172</td>\n",
       "      <td>0.538462</td>\n",
       "      <td>1.000</td>\n",
       "      <td>0.193206</td>\n",
       "    </tr>\n",
       "    <tr>\n",
       "      <th>3</th>\n",
       "      <td>0.112622</td>\n",
       "      <td>0.307692</td>\n",
       "      <td>0.875</td>\n",
       "      <td>0.213334</td>\n",
       "    </tr>\n",
       "    <tr>\n",
       "      <th>4</th>\n",
       "      <td>0.083468</td>\n",
       "      <td>0.307692</td>\n",
       "      <td>1.000</td>\n",
       "      <td>0.244700</td>\n",
       "    </tr>\n",
       "  </tbody>\n",
       "</table>\n",
       "</div>"
      ]
     },
     "execution_count": 41,
     "metadata": {},
     "output_type": "execute_result"
    }
   ],
   "execution_count": 41
  },
  {
   "metadata": {},
   "cell_type": "markdown",
   "source": "futher transformations from the min_max scaled numbers could be",
   "id": "f8747ab6ca81788"
  },
  {
   "metadata": {},
   "cell_type": "markdown",
   "source": [
    "4.0 Grouping of data:\n",
    "* into numeric financial and categorical, product and customer based on shared characteristics\n",
    "* the combination of several separate elements.\n",
    "* using the heatmap i can confirm there are no numeric multi-collinearity features\n",
    "* we look at data aggregations around sales achieved per year which shows the revenue trend over time."
   ],
   "id": "757b281d5645b468"
  },
  {
   "metadata": {
    "ExecuteTime": {
     "end_time": "2024-06-14T07:07:44.175411Z",
     "start_time": "2024-06-14T07:07:44.010992Z"
    }
   },
   "cell_type": "code",
   "source": [
    "df_product = df_categorical_cust_info.drop(['Order Date','Ship Date','Order Date','Ship Mode','Customer ID','Customer Name','Segment','Country','City','State','Postal Code','Region','Order ID','Row ID'], axis=1 )\n",
    "\n",
    "df_customer = df_categorical_cust_info.drop(['Product Name', 'Product ID','Sub-Category','Category','Ship Mode','Ship Date','Row ID','Order Date'], axis=1)\n",
    "\n",
    "#logsitics\n",
    "corrmat = df_numeric_cust_features_scaled.corr()\n",
    "\n",
    "\n",
    "def show_heatmap_one():\n",
    "    plt.subplots(figsize=(13, 10))\n",
    "    sns.heatmap(corrmat, vmax=0.9, cmap=\"Blues\", square=True)\n",
    "    # Create the heatmap using Matplotlib's imshow function\n",
    "    plt.imshow(corrmat, cmap='hot', interpolation='nearest')\n",
    "    plt.colorbar()\n",
    "    plt.show()\n",
    "\n",
    "\n",
    "df_numeric_cust_features_scaled.info()\n",
    "df_product.info()\n",
    "df_customer.info()\n",
    "show_heatmap_one()\n"
   ],
   "id": "4037b2fe774305b4",
   "outputs": [
    {
     "name": "stdout",
     "output_type": "stream",
     "text": [
      "<class 'pandas.core.frame.DataFrame'>\n",
      "RangeIndex: 9994 entries, 0 to 9993\n",
      "Data columns (total 4 columns):\n",
      " #   Column    Non-Null Count  Dtype  \n",
      "---  ------    --------------  -----  \n",
      " 0   Sales     9994 non-null   float64\n",
      " 1   Quantity  9994 non-null   float64\n",
      " 2   Discount  9994 non-null   float64\n",
      " 3   Profit    9994 non-null   float64\n",
      "dtypes: float64(4)\n",
      "memory usage: 312.4 KB\n",
      "<class 'pandas.core.frame.DataFrame'>\n",
      "RangeIndex: 9994 entries, 0 to 9993\n",
      "Data columns (total 4 columns):\n",
      " #   Column        Non-Null Count  Dtype \n",
      "---  ------        --------------  ----- \n",
      " 0   Product ID    9992 non-null   object\n",
      " 1   Category      9992 non-null   object\n",
      " 2   Sub-Category  9990 non-null   object\n",
      " 3   Product Name  9991 non-null   object\n",
      "dtypes: object(4)\n",
      "memory usage: 312.4+ KB\n",
      "<class 'pandas.core.frame.DataFrame'>\n",
      "RangeIndex: 9994 entries, 0 to 9993\n",
      "Data columns (total 9 columns):\n",
      " #   Column         Non-Null Count  Dtype \n",
      "---  ------         --------------  ----- \n",
      " 0   Order ID       9993 non-null   object\n",
      " 1   Customer ID    9994 non-null   object\n",
      " 2   Customer Name  9991 non-null   object\n",
      " 3   Segment        9991 non-null   object\n",
      " 4   Country        9990 non-null   object\n",
      " 5   City           9992 non-null   object\n",
      " 6   State          9990 non-null   object\n",
      " 7   Postal Code    9991 non-null   object\n",
      " 8   Region         9991 non-null   object\n",
      "dtypes: object(9)\n",
      "memory usage: 702.8+ KB\n"
     ]
    },
    {
     "data": {
      "text/plain": [
       "<Figure size 1300x1000 with 3 Axes>"
      ],
      "image/png": "[encoded data removed]"
     },
     "metadata": {},
     "output_type": "display_data"
    }
   ],
   "execution_count": 42
  },
  {
   "metadata": {},
   "cell_type": "markdown",
   "source": "Data aggregations around yearly sales",
   "id": "c5c737ff6c944246"
  },
  {
   "metadata": {
    "ExecuteTime": {
     "end_time": "2024-06-14T07:07:55.077874Z",
     "start_time": "2024-06-14T07:07:55.072306Z"
    }
   },
   "cell_type": "code",
   "source": [
    "# Step 1: Replace \"$April\" with \"04/11/2015\" in the 'Order Date' column using a dictionary for explicit replacement\n",
    "\n",
    "df_categorical_cust_info['Order Date'] = df_categorical_cust_info['Order Date'].replace({'$April': '04/11/2015'})\n",
    "\n",
    "# Verify the replacement\n",
    "print(\"Categorical Cust Info after replacement:\")\n",
    "print(df_categorical_cust_info['Order Date'])"
   ],
   "id": "8e8a7888c4bf0916",
   "outputs": [
    {
     "name": "stdout",
     "output_type": "stream",
     "text": [
      "Categorical Cust Info after replacement:\n",
      "0       25/11/2016\n",
      "1       11/04/2017\n",
      "2       26/07/2014\n",
      "3       17/04/2017\n",
      "4       12/07/2017\n",
      "           ...    \n",
      "9989    23/09/2014\n",
      "9990    17/12/2016\n",
      "9991    17/11/2017\n",
      "9992    23/03/2017\n",
      "9993    10/02/2016\n",
      "Name: Order Date, Length: 9994, dtype: object\n"
     ]
    }
   ],
   "execution_count": 43
  },
  {
   "metadata": {
    "ExecuteTime": {
     "end_time": "2024-06-14T07:08:00.862351Z",
     "start_time": "2024-06-14T07:08:00.856605Z"
    }
   },
   "cell_type": "code",
   "source": "df_categorical_cust_info['Sales'] = df_numeric_cust_features['Sales']",
   "id": "808287978374f121",
   "outputs": [],
   "execution_count": 44
  },
  {
   "metadata": {
    "ExecuteTime": {
     "end_time": "2024-06-14T07:08:04.290226Z",
     "start_time": "2024-06-14T07:08:04.271615Z"
    }
   },
   "cell_type": "code",
   "source": [
    "# Step 2: Convert the 'Order Date' column to datetime objects\n",
    "df_categorical_cust_info['Order Date'] = pd.to_datetime(df_categorical_cust_info['Order Date'], dayfirst=True, errors='coerce')\n",
    "print(df_categorical_cust_info.info())"
   ],
   "id": "fa3e1536f234e9f9",
   "outputs": [
    {
     "name": "stdout",
     "output_type": "stream",
     "text": [
      "<class 'pandas.core.frame.DataFrame'>\n",
      "RangeIndex: 9994 entries, 0 to 9993\n",
      "Data columns (total 18 columns):\n",
      " #   Column         Non-Null Count  Dtype         \n",
      "---  ------         --------------  -----         \n",
      " 0   Row ID         9994 non-null   int64         \n",
      " 1   Order ID       9993 non-null   object        \n",
      " 2   Order Date     9992 non-null   datetime64[ns]\n",
      " 3   Ship Date      9991 non-null   object        \n",
      " 4   Ship Mode      9990 non-null   object        \n",
      " 5   Customer ID    9994 non-null   object        \n",
      " 6   Customer Name  9991 non-null   object        \n",
      " 7   Segment        9991 non-null   object        \n",
      " 8   Country        9990 non-null   object        \n",
      " 9   City           9992 non-null   object        \n",
      " 10  State          9990 non-null   object        \n",
      " 11  Postal Code    9991 non-null   object        \n",
      " 12  Region         9991 non-null   object        \n",
      " 13  Product ID     9992 non-null   object        \n",
      " 14  Category       9992 non-null   object        \n",
      " 15  Sub-Category   9990 non-null   object        \n",
      " 16  Product Name   9991 non-null   object        \n",
      " 17  Sales          9994 non-null   float64       \n",
      "dtypes: datetime64[ns](1), float64(1), int64(1), object(15)\n",
      "memory usage: 1.4+ MB\n",
      "None\n"
     ]
    }
   ],
   "execution_count": 45
  },
  {
   "metadata": {
    "ExecuteTime": {
     "end_time": "2024-06-14T07:08:20.931148Z",
     "start_time": "2024-06-14T07:08:20.903836Z"
    }
   },
   "cell_type": "code",
   "source": [
    "# Step 3: Create date range for bins \n",
    "bins = pd.date_range(start='2014-01-01', end='2018-01-01', freq='YS')\n",
    "labels = [str(year.year) for year in bins[:-1]]\n",
    "print(labels)"
   ],
   "id": "834fc826807dd754",
   "outputs": [
    {
     "name": "stdout",
     "output_type": "stream",
     "text": [
      "['2014', '2015', '2016', '2017']\n"
     ]
    }
   ],
   "execution_count": 47
  },
  {
   "metadata": {
    "ExecuteTime": {
     "end_time": "2024-06-14T07:08:25.724661Z",
     "start_time": "2024-06-14T07:08:25.699414Z"
    }
   },
   "cell_type": "code",
   "source": [
    "# Step 4: Categorize the dates into bins\n",
    "df_categorical_cust_info['Year_Bin'] = pd.cut(df_categorical_cust_info['Order Date'], bins=bins, labels=labels)\n"
   ],
   "id": "f072f700230afcf0",
   "outputs": [],
   "execution_count": 48
  },
  {
   "metadata": {
    "ExecuteTime": {
     "end_time": "2024-06-14T07:08:33.503285Z",
     "start_time": "2024-06-14T07:08:33.491762Z"
    }
   },
   "cell_type": "code",
   "source": [
    "# Step 5: Group by these bins and sum the 'Sales' values\n",
    "sales_by_years_bin = df_categorical_cust_info.groupby('Year_Bin', observed=False)['Sales'].sum().reset_index()"
   ],
   "id": "bd1bea979a61f89f",
   "outputs": [],
   "execution_count": 49
  },
  {
   "metadata": {
    "ExecuteTime": {
     "end_time": "2024-06-14T07:08:36.883584Z",
     "start_time": "2024-06-14T07:08:36.875329Z"
    }
   },
   "cell_type": "code",
   "source": [
    "sales_by_years_bin.sort_values(by='Year_Bin', ascending=True, inplace=True)\n",
    "# Verify the grouped sales data\n",
    "print(\"Sales by Year Bin:\")\n",
    "print(sales_by_years_bin)\n",
    "print(\"Gross sales for period\")\n",
    "print(sales_by_years_bin.Sales.sum())\n",
    "\n"
   ],
   "id": "ddcdb531d9491de1",
   "outputs": [
    {
     "name": "stdout",
     "output_type": "stream",
     "text": [
      "Sales by Year Bin:\n",
      "  Year_Bin         Sales\n",
      "0     2014  483605.19588\n",
      "1     2015  469869.43700\n",
      "2     2016  610687.42600\n",
      "3     2017  731733.42720\n",
      "Gross sales for period\n",
      "2295895.486079676\n"
     ]
    }
   ],
   "execution_count": 50
  },
  {
   "metadata": {},
   "cell_type": "markdown",
   "source": [
    "Frequency distribution and a view on categorical data\n",
    "* How often each shipping mode is used from a subset of 500 orders.\n",
    "* Which cities have the highest amount of orders made from a subset of 500 orders.\n",
    "* We look at frequency distribution to determine the customers who order the most.\n",
    "* what products are ordered the most frequently.\n"
   ],
   "id": "30ef5dfef8056e26"
  },
  {
   "metadata": {},
   "cell_type": "code",
   "outputs": [],
   "execution_count": null,
   "source": [
    "df_categorical_cust_subset = df_categorical_cust_info.iloc[:500]\n",
    "print(df_categorical_cust_subset.shape)"
   ],
   "id": "7900565d5c85e64f"
  },
  {
   "metadata": {},
   "cell_type": "code",
   "outputs": [],
   "execution_count": null,
   "source": [
    "#initialize counters\n",
    "delivery = []\n",
    "standard_count = 0\n",
    "same_day_count = 0\n",
    "first_count = 0\n",
    "second_count = 0"
   ],
   "id": "c5c964fdeb563e0c"
  },
  {
   "metadata": {
    "ExecuteTime": {
     "end_time": "2024-06-14T08:19:03.062457Z",
     "start_time": "2024-06-14T08:19:03.050991Z"
    }
   },
   "cell_type": "code",
   "source": [
    "for x in df_categorical_cust_subset['Ship Mode']:\n",
    "    if x == \"Standard Class\":\n",
    "        delivery.append(x)\n",
    "        standard_count +=1\n",
    "    elif x == \"Same Day\":\n",
    "        delivery.append(x)\n",
    "        same_day_count +=1\n",
    "    elif x == \"First Class\":\n",
    "        delivery.append(x)\n",
    "        first_count +=1\n",
    "    elif x == \"Second Class\": \n",
    "        delivery.append(x)\n",
    "        second_count +=1\n",
    " \n",
    "print(\"The total orders in this subset is\", df_categorical_cust_subset.shape) \n",
    "print(\"The following frequency distributions are, for standard class\", standard_count)\n",
    "print(\"Same day delivery total orders\",      same_day_count)\n",
    "print(\"First day delivery total orders\",     first_count)\n",
    "print(\"Second day delivery total orders\",    second_count)\n",
    "print(\"The total orders using the said methods\",   standard_count + same_day_count + \n",
    "first_count + second_count)\n"
   ],
   "id": "af6f45246f7cdefb",
   "outputs": [
    {
     "name": "stdout",
     "output_type": "stream",
     "text": [
      "The total orders in this subset is (500, 19)\n",
      "The following frequency distributions are, for standard class 2156\n",
      "Same day delivery total orders 168\n",
      "First day delivery total orders 518\n",
      "Second day delivery total orders 644\n",
      "The total orders using the said methods 3486\n"
     ]
    }
   ],
   "execution_count": 93
  },
  {
   "metadata": {
    "ExecuteTime": {
     "end_time": "2024-06-14T08:10:06.259217Z",
     "start_time": "2024-06-14T08:10:06.238707Z"
    }
   },
   "cell_type": "code",
   "source": [
    "city_order_count = df_categorical_cust_info.groupby('City').size().reset_index(name='Order Count')\n",
    "city_order_count_sorted = city_order_count.sort_values(by='Order Count', ascending=False)\n",
    "print(city_order_count_sorted)\n",
    "print(city_order_count.shape)\n"
   ],
   "id": "2c987688723d10a3",
   "outputs": [
    {
     "name": "stdout",
     "output_type": "stream",
     "text": [
      "              City  Order Count\n",
      "329  New York City          915\n",
      "266    Los Angeles          747\n",
      "374   Philadelphia          537\n",
      "438  San Francisco          510\n",
      "452        Seattle          428\n",
      "..             ...          ...\n",
      "402   Redwood City            1\n",
      "203        Holyoke            1\n",
      "398        Redding            1\n",
      "213      Iowa City            1\n",
      "0         Aberdeen            1\n",
      "\n",
      "[531 rows x 2 columns]\n",
      "(531, 2)\n"
     ]
    }
   ],
   "execution_count": 91
  },
  {
   "metadata": {
    "ExecuteTime": {
     "end_time": "2024-06-14T08:55:20.110140Z",
     "start_time": "2024-06-14T08:55:20.081623Z"
    }
   },
   "cell_type": "code",
   "source": [
    "num_order_per_customer = df_categorical_cust_info.groupby('Customer Name').size().reset_index(name='Order Count Customers')\n",
    "num_order_per_customer_sorted = num_order_per_customer.sort_values(by='Order Count Customers', ascending=False)\n",
    "print(num_order_per_customer_sorted)\n"
   ],
   "id": "88633782ffb99b1c",
   "outputs": [
    {
     "name": "stdout",
     "output_type": "stream",
     "text": [
      "         Customer Name  Order Count Customers\n",
      "788      William Brown                     37\n",
      "503       Matt Abelman                     34\n",
      "388           John Lee                     34\n",
      "596         Paul Prost                     34\n",
      "250       Edward Hooks                     32\n",
      "..                 ...                    ...\n",
      "626    Ricardo Emerson                      1\n",
      "379     Jocasta Rupert                      1\n",
      "124       Carl Jackson                      1\n",
      "54   Anthony O'Donnell                      1\n",
      "0                   10                      1\n",
      "\n",
      "[794 rows x 2 columns]\n"
     ]
    }
   ],
   "execution_count": 98
  },
  {
   "metadata": {
    "ExecuteTime": {
     "end_time": "2024-06-14T09:01:34.308098Z",
     "start_time": "2024-06-14T09:01:34.270384Z"
    }
   },
   "cell_type": "code",
   "source": [
    "most_ordered_product = df_categorical_cust_info.groupby('Product Name').size().reset_index(name='Frequency ordered')\n",
    "most_ordered_product_sorted = most_ordered_product.sort_values(by='Frequency ordered', ascending=False)\n",
    "print(most_ordered_product_sorted)"
   ],
   "id": "21fa7eb857402f",
   "outputs": [
    {
     "name": "stdout",
     "output_type": "stream",
     "text": [
      "                                           Product Name  Frequency ordered\n",
      "1493                                    Staple envelope                 48\n",
      "1499                                            Staples                 46\n",
      "537                                   Easy-staple paper                 46\n",
      "259                             Avery Non-Stick Binders                 20\n",
      "1500                            Staples in misc. colors                 19\n",
      "...                                                 ...                ...\n",
      "1708                                         Xerox 1922                  1\n",
      "27                                    4009 Highlighters                  1\n",
      "300   Belkin 8 Outlet SurgeMaster II Gold Surge Prot...                  1\n",
      "372   Brother MFC-9340CDW LED All-In-One Printer, Co...                  1\n",
      "436                             Cisco SPA 501G IP Phone                  1\n",
      "\n",
      "[1850 rows x 2 columns]\n"
     ]
    }
   ],
   "execution_count": 99
  },
  {
   "metadata": {},
   "cell_type": "markdown",
   "source": [
    "5.0 The methods i used to handle missing values\n",
    "* Random Forest Imputation: Use machine learning model to predict missing values. I Trained a RandomForestRegressor (or RandomForestClassifier for categorical data) from scikit-learn to predict missing values based on columns in the numeric dataset.\n",
    "* Identifying NaNs: Use isna().sum(), isnull().sum() or fillna()to count NaNs across numeric columns (Sales, Profit, Quantity and Discount).\n",
    "* Estimate missing values using  interpolate(method=’linear’)\n",
    "* Cleaning: Use replace() to map inconsistencies and incorrect entries\n",
    "    “two” instead of “2” etc\n",
    "    “$April” instead of “14/05/2024 etc”\n",
    "* Wrote a script to evaluate unique values in Quantity that found all “written numbers”\n",
    "* Type Conversion: Use astype('float64') to ensure all numeric data was in the correct format prior to imputation.\n"
   ],
   "id": "13faffb7b3ab9fec"
  },
  {
   "metadata": {},
   "cell_type": "markdown",
   "source": [
    "6.0 The correlation: \n",
    "\n",
    "6.1 covariance \n",
    "\n",
    "* When sales increase, profit and quantity go up\n",
    "* When sales decrease discounting goes up.\n",
    "* When profits go up, sales and quantity go up.\n",
    "* There is no relationship between discount and quantity"
   ],
   "id": "8304098d33e4e179"
  },
  {
   "metadata": {
    "ExecuteTime": {
     "end_time": "2024-06-14T08:45:53.118531Z",
     "start_time": "2024-06-14T08:45:53.065276Z"
    }
   },
   "cell_type": "code",
   "source": [
    "numeric_covariance = df_numeric_cust_features.cov()\n",
    "print(numeric_covariance)"
   ],
   "id": "15945e169b69ea56",
   "outputs": [
    {
     "name": "stdout",
     "output_type": "stream",
     "text": [
      "                  Sales    Quantity   Discount        Profit\n",
      "Sales     388434.121558  278.147547  -3.621752  70946.464970\n",
      "Quantity     278.147547    4.947520   0.003570     37.154452\n",
      "Discount      -3.621752    0.003570   0.042588    -10.467963\n",
      "Profit     70946.464970   37.154452 -10.467963  54332.628202\n"
     ]
    }
   ],
   "execution_count": 94
  },
  {
   "metadata": {},
   "cell_type": "markdown",
   "source": [
    "6.2 The correlation\n",
    "* When Sales go down, discounting goes up.\n",
    "* When sales go up, profit and quantity sold goes up.\n",
    "* when profit goes up quantity sold and sales goes up.\n",
    "* when profit goes down, discounting goes up.\n",
    "* There is no covariance between Discount and Quantity."
   ],
   "id": "a6dd1f55803b2ff7"
  },
  {
   "metadata": {},
   "cell_type": "code",
   "outputs": [
    {
     "name": "stdout",
     "output_type": "stream",
     "text": [
      "             Sales  Quantity  Discount    Profit\n",
      "Sales     1.000000  0.200642 -0.028159  0.488362\n",
      "Quantity  0.200642  1.000000  0.007778  0.071662\n",
      "Discount -0.028159  0.007778  1.000000 -0.217615\n",
      "Profit    0.488362  0.071662 -0.217615  1.000000\n"
     ]
    }
   ],
   "execution_count": 98,
   "source": [
    "correlation = df_numeric_cust_features.corr()\n",
    "print(correlation)"
   ],
   "id": "7f5a275a41c36436"
  },
  {
   "metadata": {},
   "cell_type": "markdown",
   "source": [
    "6.3 The following insights from correlation: Sales and Profit\n",
    "* The positive relationship with sales and profit suggest as sales increase profit increase.\n",
    "* there is not a strong linear relationship with sales and profit and other factors can also influence profit.\n",
    "* The graph implies that just under half the sales made where at a loss to the business.\n",
    "* The reult is between -1 and 1.\n",
    "\n",
    "\n"
   ],
   "id": "eb282493619b2aa9"
  },
  {
   "metadata": {},
   "cell_type": "code",
   "outputs": [
    {
     "data": {
      "text/plain": [
       "<Figure size 1000x600 with 1 Axes>"
      ],
      "image/png": "[encoded data removed]"
     },
     "metadata": {},
     "output_type": "display_data"
    }
   ],
   "execution_count": 108,
   "source": [
    "# Scatter plot\n",
    "plt.figure(figsize=(10, 6))\n",
    "sns.scatterplot(x=df_numeric_cust_features['Sales'], y=df_numeric_cust_features['Profit'])\n",
    "plt.title('Sales vs. Profit')\n",
    "plt.ylabel('Profit')\n",
    "plt.xlabel('Sales')\n",
    "plt.show()\n",
    "\n",
    "\n",
    "\n"
   ],
   "id": "1c45a45fed522be6"
  },
  {
   "metadata": {},
   "cell_type": "markdown",
   "source": [
    "6.4 The insights from correlation Sales to Quantity\n",
    "\n",
    "* The positive 0.200 implies as quantity sold increases sales does as well.\n",
    "* because the result is low / weak other factors can have a big impact on sales.\n",
    "\n",
    "\n"
   ],
   "id": "da7a6d3083af8a46"
  },
  {
   "metadata": {},
   "cell_type": "code",
   "outputs": [
    {
     "data": {
      "text/plain": [
       "<Figure size 1000x600 with 1 Axes>"
      ],
      "image/png": "[encoded data removed]"
     },
     "metadata": {},
     "output_type": "display_data"
    }
   ],
   "execution_count": 103,
   "source": [
    "# Scatter plot\n",
    "plt.figure(figsize=(10, 6))\n",
    "sns.scatterplot(x=df_numeric_cust_features['Sales'], y=df_numeric_cust_features['Quantity'])\n",
    "plt.title('Sales vs. Quantity')\n",
    "plt.xlabel('Sales')\n",
    "plt.ylabel('Quantity')\n",
    "plt.show()\n"
   ],
   "id": "bf7ed86cffd6e325"
  }
 ],
 "metadata": {
  "kernelspec": {
   "display_name": "Python 3",
   "language": "python",
   "name": "python3"
  },
  "language_info": {
   "codemirror_mode": {
    "name": "ipython",
    "version": 2
   },
   "file_extension": ".py",
   "mimetype": "text/x-python",
   "name": "python",
   "nbconvert_exporter": "python",
   "pygments_lexer": "ipython2",
   "version": "2.7.6"
  }
 },
 "nbformat": 4,
 "nbformat_minor": 5
}
